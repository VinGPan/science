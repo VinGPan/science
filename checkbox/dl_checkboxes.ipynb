{
 "cells": [
  {
   "cell_type": "markdown",
   "metadata": {},
   "source": [
    "# Deep Learning Checkboxes"
   ]
  },
  {
   "cell_type": "markdown",
   "metadata": {},
   "source": [
    "## 1. My Development Environment\n",
    "- Windows Desktop with NVIDIA GPU - 1080 ti\n",
    "- Conda environment with Tensorflow (1.13.1) and Keras GPU version, Python 3.6"
   ]
  },
  {
   "cell_type": "markdown",
   "metadata": {},
   "source": [
    "## 2. Folder Structure\n",
    "- data path    -> C:\\projects\\science\\checkbox-data         (ie extract checkbox-data.tgz here)\n",
    "- scripts path -> C:\\projects\\science\\checkbox               (this notebook lives in here)\n",
    "- models       -> C:\\projects\\science\\models                (upon running this notebook model is stored here)\n",
    "- pwd          -> C:\\projects\\science\\checkbox"
   ]
  },
  {
   "cell_type": "markdown",
   "metadata": {},
   "source": [
    "## 3. Build Model"
   ]
  },
  {
   "cell_type": "code",
   "execution_count": 2,
   "metadata": {},
   "outputs": [],
   "source": [
    "from split import split\n",
    "from train import train_resnet_classification\n",
    "from report import report"
   ]
  },
  {
   "cell_type": "code",
   "execution_count": 3,
   "metadata": {},
   "outputs": [],
   "source": [
    "# Make train-val-test split\n",
    "dpath = '../checkbox-data/'\n",
    "proc_data_path = '../'\n",
    "split(dpath, proc_data_path)\n",
    "# abobe call creates ../data/ folder and copies images as needed by flow_from_directory"
   ]
  },
  {
   "cell_type": "code",
   "execution_count": 4,
   "metadata": {},
   "outputs": [
    {
     "name": "stdout",
     "output_type": "stream",
     "text": [
      "WARNING:tensorflow:From C:\\Users\\Vaishali\\Anaconda3\\envs\\vinayenv\\lib\\site-packages\\tensorflow\\python\\framework\\op_def_library.py:263: colocate_with (from tensorflow.python.framework.ops) is deprecated and will be removed in a future version.\n",
      "Instructions for updating:\n",
      "Colocations handled automatically by placer.\n"
     ]
    },
    {
     "name": "stderr",
     "output_type": "stream",
     "text": [
      "C:\\Users\\Vaishali\\Anaconda3\\envs\\vinayenv\\lib\\site-packages\\keras_applications\\resnet50.py:265: UserWarning: The output shape of `ResNet50(include_top=False)` has been changed since Keras 2.2.0.\n",
      "  warnings.warn('The output shape of `ResNet50(include_top=False)` '\n"
     ]
    },
    {
     "name": "stdout",
     "output_type": "stream",
     "text": [
      "Found 502 images belonging to 3 classes.\n",
      "Found 143 images belonging to 3 classes.\n",
      "WARNING:tensorflow:From C:\\Users\\Vaishali\\Anaconda3\\envs\\vinayenv\\lib\\site-packages\\tensorflow\\python\\ops\\math_ops.py:3066: to_int32 (from tensorflow.python.ops.math_ops) is deprecated and will be removed in a future version.\n",
      "Instructions for updating:\n",
      "Use tf.cast instead.\n",
      "Epoch 1/30\n",
      "100/100 [==============================] - 9s 85ms/step - loss: 0.8218 - acc: 0.6471 - val_loss: 1.5447 - val_acc: 0.3019\n",
      "\n",
      "Epoch 00001: val_acc improved from -inf to 0.30189, saving model to ..//models/train_head.h5\n",
      "Epoch 2/30\n",
      "100/100 [==============================] - 6s 58ms/step - loss: 0.6103 - acc: 0.7642 - val_loss: 1.6964 - val_acc: 0.2893\n",
      "\n",
      "Epoch 00002: val_acc did not improve from 0.30189\n",
      "Epoch 3/30\n",
      "100/100 [==============================] - 6s 60ms/step - loss: 0.5014 - acc: 0.8046 - val_loss: 2.1971 - val_acc: 0.2830 0.5008 - acc: 0.\n",
      "\n",
      "Epoch 00003: val_acc did not improve from 0.30189\n",
      "Epoch 4/30\n",
      "100/100 [==============================] - 6s 59ms/step - loss: 0.5422 - acc: 0.7954 - val_loss: 1.8393 - val_acc: 0.3459\n",
      "\n",
      "Epoch 00004: val_acc improved from 0.30189 to 0.34591, saving model to ..//models/train_head.h5\n",
      "Epoch 5/30\n",
      "100/100 [==============================] - 6s 58ms/step - loss: 0.4321 - acc: 0.8346 - val_loss: 2.1426 - val_acc: 0.2767\n",
      "\n",
      "Epoch 00005: val_acc did not improve from 0.34591\n",
      "Epoch 6/30\n",
      "100/100 [==============================] - 6s 59ms/step - loss: 0.4509 - acc: 0.8383 - val_loss: 2.2137 - val_acc: 0.2956\n",
      "\n",
      "Epoch 00006: val_acc did not improve from 0.34591\n",
      "Epoch 7/30\n",
      "100/100 [==============================] - 6s 59ms/step - loss: 0.4213 - acc: 0.8325 - val_loss: 2.5240 - val_acc: 0.3145\n",
      "\n",
      "Epoch 00007: val_acc did not improve from 0.34591\n",
      "Epoch 8/30\n",
      "100/100 [==============================] - 6s 60ms/step - loss: 0.4162 - acc: 0.8587 - val_loss: 2.2638 - val_acc: 0.2893\n",
      "\n",
      "Epoch 00008: val_acc did not improve from 0.34591\n",
      "Epoch 9/30\n",
      "100/100 [==============================] - 6s 59ms/step - loss: 0.4026 - acc: 0.8542 - val_loss: 2.6973 - val_acc: 0.3101\n",
      "\n",
      "Epoch 00009: val_acc did not improve from 0.34591\n",
      "Epoch 10/30\n",
      "100/100 [==============================] - 6s 59ms/step - loss: 0.3844 - acc: 0.8325 - val_loss: 2.5039 - val_acc: 0.2830\n",
      "\n",
      "Epoch 00010: val_acc did not improve from 0.34591\n",
      "Epoch 11/30\n",
      "100/100 [==============================] - 6s 59ms/step - loss: 0.4099 - acc: 0.8413 - val_loss: 2.3600 - val_acc: 0.2767\n",
      "\n",
      "Epoch 00011: val_acc did not improve from 0.34591\n",
      "Epoch 12/30\n",
      "100/100 [==============================] - 6s 59ms/step - loss: 0.3768 - acc: 0.8737 - val_loss: 2.4515 - val_acc: 0.3082\n",
      "\n",
      "Epoch 00012: val_acc did not improve from 0.34591\n",
      "Epoch 13/30\n",
      "100/100 [==============================] - 6s 59ms/step - loss: 0.3314 - acc: 0.8800 - val_loss: 2.9025 - val_acc: 0.3082\n",
      "\n",
      "Epoch 00013: val_acc did not improve from 0.34591\n",
      "Epoch 14/30\n",
      "100/100 [==============================] - 6s 59ms/step - loss: 0.3519 - acc: 0.8804 - val_loss: 2.5989 - val_acc: 0.3145\n",
      "\n",
      "Epoch 00014: val_acc did not improve from 0.34591\n",
      "Epoch 15/30\n",
      "100/100 [==============================] - 6s 59ms/step - loss: 0.3948 - acc: 0.8542 - val_loss: 2.3716 - val_acc: 0.2830\n",
      "\n",
      "Epoch 00015: val_acc did not improve from 0.34591\n",
      "\n",
      "Epoch 00015: ReduceLROnPlateau reducing learning rate to 0.00010000000474974513.\n",
      "Epoch 16/30\n",
      "100/100 [==============================] - 6s 58ms/step - loss: 0.3013 - acc: 0.8775 - val_loss: 2.7613 - val_acc: 0.2830\n",
      "\n",
      "Epoch 00016: val_acc did not improve from 0.34591\n",
      "Epoch 17/30\n",
      "100/100 [==============================] - 6s 60ms/step - loss: 0.2853 - acc: 0.8946 - val_loss: 2.4689 - val_acc: 0.2956\n",
      "\n",
      "Epoch 00017: val_acc did not improve from 0.34591\n",
      "Epoch 18/30\n",
      "100/100 [==============================] - 6s 60ms/step - loss: 0.2976 - acc: 0.8896 - val_loss: 2.6191 - val_acc: 0.2911\n",
      "\n",
      "Epoch 00018: val_acc did not improve from 0.34591\n",
      "Epoch 19/30\n",
      "100/100 [==============================] - 6s 64ms/step - loss: 0.2842 - acc: 0.8938 - val_loss: 2.4162 - val_acc: 0.2893\n",
      "\n",
      "Epoch 00019: val_acc did not improve from 0.34591\n",
      "Epoch 20/30\n",
      "100/100 [==============================] - 6s 60ms/step - loss: 0.3013 - acc: 0.8896 - val_loss: 2.7772 - val_acc: 0.3145\n",
      "\n",
      "Epoch 00020: val_acc did not improve from 0.34591\n",
      "Epoch 21/30\n",
      "100/100 [==============================] - 6s 62ms/step - loss: 0.2724 - acc: 0.8929 - val_loss: 2.5389 - val_acc: 0.2704\n",
      "\n",
      "Epoch 00021: val_acc did not improve from 0.34591\n",
      "Epoch 22/30\n",
      "100/100 [==============================] - 6s 61ms/step - loss: 0.2722 - acc: 0.8958 - val_loss: 2.6010 - val_acc: 0.3270 0s - loss: 0.2733\n",
      "\n",
      "Epoch 00022: val_acc did not improve from 0.34591\n",
      "Epoch 23/30\n",
      "100/100 [==============================] - 6s 60ms/step - loss: 0.2772 - acc: 0.8946 - val_loss: 2.7574 - val_acc: 0.2516\n",
      "\n",
      "Epoch 00023: val_acc did not improve from 0.34591\n",
      "Epoch 24/30\n",
      "100/100 [==============================] - 6s 60ms/step - loss: 0.2726 - acc: 0.8912 - val_loss: 2.4054 - val_acc: 0.3208\n",
      "\n",
      "Epoch 00024: val_acc did not improve from 0.34591\n",
      "\n",
      "Epoch 00024: ReduceLROnPlateau reducing learning rate to 1.0000000474974514e-05.\n",
      "Epoch 25/30\n",
      "100/100 [==============================] - 6s 60ms/step - loss: 0.2973 - acc: 0.8921 - val_loss: 2.6852 - val_acc: 0.3082\n",
      "\n",
      "Epoch 00025: val_acc did not improve from 0.34591\n",
      "Epoch 26/30\n",
      "100/100 [==============================] - 6s 59ms/step - loss: 0.2405 - acc: 0.9175 - val_loss: 2.6871 - val_acc: 0.2830\n",
      "\n",
      "Epoch 00026: val_acc did not improve from 0.34591\n",
      "Epoch 27/30\n",
      "100/100 [==============================] - 6s 60ms/step - loss: 0.2560 - acc: 0.9100 - val_loss: 2.6038 - val_acc: 0.2848\n",
      "\n",
      "Epoch 00027: val_acc did not improve from 0.34591\n",
      "Epoch 28/30\n",
      "100/100 [==============================] - 6s 59ms/step - loss: 0.2838 - acc: 0.8921 - val_loss: 2.6601 - val_acc: 0.2830\n",
      "\n",
      "Epoch 00028: val_acc did not improve from 0.34591\n",
      "\n",
      "Epoch 00028: ReduceLROnPlateau reducing learning rate to 1.0000000656873453e-06.\n",
      "Epoch 29/30\n",
      "100/100 [==============================] - 6s 60ms/step - loss: 0.2363 - acc: 0.9233 - val_loss: 2.6781 - val_acc: 0.2704\n",
      "\n",
      "Epoch 00029: val_acc did not improve from 0.34591\n",
      "Epoch 30/30\n",
      "100/100 [==============================] - 6s 59ms/step - loss: 0.2746 - acc: 0.8962 - val_loss: 2.5973 - val_acc: 0.3208\n",
      "\n",
      "Epoch 00030: val_acc did not improve from 0.34591\n"
     ]
    }
   ],
   "source": [
    "# Train Resnet50 - Transfer learning\n",
    "num_classes = 3\n",
    "tmode = \"train_head\"\n",
    "train_resnet_classification(num_classes, tmode, proc_data_path)\n",
    "# above call creates models in ../models/train_head.h5"
   ]
  },
  {
   "cell_type": "code",
   "execution_count": 5,
   "metadata": {},
   "outputs": [
    {
     "name": "stdout",
     "output_type": "stream",
     "text": [
      "Found 502 images belonging to 3 classes.\n",
      "Found 143 images belonging to 3 classes.\n",
      "Epoch 1/30\n",
      "100/100 [==============================] - 18s 185ms/step - loss: 0.3944 - acc: 0.8683 - val_loss: 0.6091 - val_acc: 0.8113\n",
      "\n",
      "Epoch 00001: val_acc improved from -inf to 0.81132, saving model to ..//models/finetune.h5\n",
      "Epoch 2/30\n",
      "100/100 [==============================] - 11s 112ms/step - loss: 0.3835 - acc: 0.8550 - val_loss: 0.7059 - val_acc: 0.7358\n",
      "\n",
      "Epoch 00002: val_acc did not improve from 0.81132\n",
      "Epoch 3/30\n",
      "100/100 [==============================] - 11s 112ms/step - loss: 0.3348 - acc: 0.8717 - val_loss: 0.6730 - val_acc: 0.8050\n",
      "\n",
      "Epoch 00003: val_acc did not improve from 0.81132\n",
      "Epoch 4/30\n",
      "100/100 [==============================] - 11s 112ms/step - loss: 0.2764 - acc: 0.9075 - val_loss: 0.6744 - val_acc: 0.7799\n",
      "\n",
      "Epoch 00004: val_acc did not improve from 0.81132\n",
      "Epoch 5/30\n",
      "100/100 [==============================] - 11s 112ms/step - loss: 0.2507 - acc: 0.9100 - val_loss: 0.7667 - val_acc: 0.8113\n",
      "\n",
      "Epoch 00005: val_acc improved from 0.81132 to 0.81132, saving model to ..//models/finetune.h5\n",
      "Epoch 6/30\n",
      "100/100 [==============================] - 11s 112ms/step - loss: 0.2333 - acc: 0.9125 - val_loss: 0.7639 - val_acc: 0.7862\n",
      "\n",
      "Epoch 00006: val_acc did not improve from 0.81132\n",
      "Epoch 7/30\n",
      "100/100 [==============================] - 11s 112ms/step - loss: 0.2107 - acc: 0.9204 - val_loss: 0.6841 - val_acc: 0.8679\n",
      "\n",
      "Epoch 00007: val_acc improved from 0.81132 to 0.86792, saving model to ..//models/finetune.h5\n",
      "Epoch 8/30\n",
      "100/100 [==============================] - 11s 112ms/step - loss: 0.1548 - acc: 0.9546 - val_loss: 0.7705 - val_acc: 0.7862\n",
      "\n",
      "Epoch 00008: val_acc did not improve from 0.86792\n",
      "Epoch 9/30\n",
      "100/100 [==============================] - 11s 112ms/step - loss: 0.1622 - acc: 0.9487 - val_loss: 0.8206 - val_acc: 0.8101\n",
      "\n",
      "Epoch 00009: val_acc did not improve from 0.86792\n",
      "Epoch 10/30\n",
      "100/100 [==============================] - 11s 112ms/step - loss: 0.1621 - acc: 0.9458 - val_loss: 0.7701 - val_acc: 0.8365\n",
      "\n",
      "Epoch 00010: val_acc did not improve from 0.86792\n",
      "\n",
      "Epoch 00010: ReduceLROnPlateau reducing learning rate to 9.999999747378752e-07.\n",
      "Epoch 11/30\n",
      "100/100 [==============================] - 11s 112ms/step - loss: 0.1311 - acc: 0.9608 - val_loss: 0.8128 - val_acc: 0.8428\n",
      "\n",
      "Epoch 00011: val_acc did not improve from 0.86792\n",
      "Epoch 12/30\n",
      "100/100 [==============================] - 11s 112ms/step - loss: 0.1114 - acc: 0.9625 - val_loss: 0.9309 - val_acc: 0.8239\n",
      "\n",
      "Epoch 00012: val_acc did not improve from 0.86792\n",
      "Epoch 13/30\n",
      "100/100 [==============================] - 11s 112ms/step - loss: 0.1256 - acc: 0.9458 - val_loss: 0.9322 - val_acc: 0.8113\n",
      "\n",
      "Epoch 00013: val_acc did not improve from 0.86792\n",
      "Epoch 14/30\n",
      "100/100 [==============================] - 11s 112ms/step - loss: 0.1065 - acc: 0.9662 - val_loss: 0.8435 - val_acc: 0.8302\n",
      "\n",
      "Epoch 00014: val_acc did not improve from 0.86792\n",
      "Epoch 15/30\n",
      "100/100 [==============================] - 11s 113ms/step - loss: 0.1337 - acc: 0.9512 - val_loss: 0.9022 - val_acc: 0.8302\n",
      "\n",
      "Epoch 00015: val_acc did not improve from 0.86792\n",
      "Epoch 16/30\n",
      "100/100 [==============================] - 11s 112ms/step - loss: 0.1225 - acc: 0.9587 - val_loss: 1.0039 - val_acc: 0.8428\n",
      "\n",
      "Epoch 00016: val_acc did not improve from 0.86792\n",
      "\n",
      "Epoch 00016: ReduceLROnPlateau reducing learning rate to 9.999999974752428e-08.\n",
      "Epoch 17/30\n",
      "100/100 [==============================] - 11s 113ms/step - loss: 0.1408 - acc: 0.9500 - val_loss: 0.7442 - val_acc: 0.8428\n",
      "\n",
      "Epoch 00017: val_acc did not improve from 0.86792\n",
      "Epoch 18/30\n",
      "100/100 [==============================] - 11s 112ms/step - loss: 0.1189 - acc: 0.9612 - val_loss: 1.0460 - val_acc: 0.8291\n",
      "\n",
      "Epoch 00018: val_acc did not improve from 0.86792\n",
      "\n",
      "Epoch 00018: ReduceLROnPlateau reducing learning rate to 1.0000000116860975e-08.\n",
      "Epoch 19/30\n",
      "100/100 [==============================] - 11s 113ms/step - loss: 0.1262 - acc: 0.9546 - val_loss: 1.0775 - val_acc: 0.8176\n",
      "\n",
      "Epoch 00019: val_acc did not improve from 0.86792\n",
      "Epoch 20/30\n",
      "100/100 [==============================] - 11s 113ms/step - loss: 0.1094 - acc: 0.9650 - val_loss: 0.6837 - val_acc: 0.8616\n",
      "\n",
      "Epoch 00020: val_acc did not improve from 0.86792\n",
      "\n",
      "Epoch 00020: ReduceLROnPlateau reducing learning rate to 9.999999939225292e-10.\n",
      "Epoch 21/30\n",
      "100/100 [==============================] - 11s 113ms/step - loss: 0.1080 - acc: 0.9650 - val_loss: 1.0299 - val_acc: 0.8050\n",
      "\n",
      "Epoch 00021: val_acc did not improve from 0.86792\n",
      "Epoch 22/30\n",
      "100/100 [==============================] - 11s 113ms/step - loss: 0.1048 - acc: 0.9646 - val_loss: 0.7698 - val_acc: 0.8616\n",
      "\n",
      "Epoch 00022: val_acc did not improve from 0.86792\n",
      "Epoch 23/30\n",
      "100/100 [==============================] - 11s 113ms/step - loss: 0.1153 - acc: 0.9621 - val_loss: 0.9307 - val_acc: 0.8365\n",
      "\n",
      "Epoch 00023: val_acc did not improve from 0.86792\n",
      "Epoch 24/30\n",
      "100/100 [==============================] - 11s 113ms/step - loss: 0.1333 - acc: 0.9525 - val_loss: 1.0923 - val_acc: 0.8239\n",
      "\n",
      "Epoch 00024: val_acc did not improve from 0.86792\n",
      "\n",
      "Epoch 00024: ReduceLROnPlateau reducing learning rate to 9.999999717180686e-11.\n",
      "Epoch 25/30\n",
      "100/100 [==============================] - 11s 113ms/step - loss: 0.1136 - acc: 0.9612 - val_loss: 0.8623 - val_acc: 0.8491\n",
      "\n",
      "Epoch 00025: val_acc did not improve from 0.86792\n",
      "Epoch 26/30\n",
      "100/100 [==============================] - 11s 113ms/step - loss: 0.1041 - acc: 0.9696 - val_loss: 0.8077 - val_acc: 0.8428\n",
      "\n",
      "Epoch 00026: val_acc did not improve from 0.86792\n",
      "Epoch 27/30\n",
      "100/100 [==============================] - 11s 113ms/step - loss: 0.1093 - acc: 0.9625 - val_loss: 0.9493 - val_acc: 0.8354\n",
      "\n",
      "Epoch 00027: val_acc did not improve from 0.86792\n",
      "Epoch 28/30\n",
      "100/100 [==============================] - 11s 113ms/step - loss: 0.1425 - acc: 0.9587 - val_loss: 0.8306 - val_acc: 0.8491\n",
      "\n",
      "Epoch 00028: val_acc did not improve from 0.86792\n",
      "\n",
      "Epoch 00028: ReduceLROnPlateau reducing learning rate to 9.99999943962493e-12.\n",
      "Epoch 29/30\n",
      "100/100 [==============================] - 11s 113ms/step - loss: 0.1066 - acc: 0.9662 - val_loss: 0.9946 - val_acc: 0.8239\n",
      "\n",
      "Epoch 00029: val_acc did not improve from 0.86792\n",
      "Epoch 30/30\n",
      "100/100 [==============================] - 11s 113ms/step - loss: 0.1385 - acc: 0.9537 - val_loss: 0.8873 - val_acc: 0.8302\n",
      "\n",
      "Epoch 00030: val_acc did not improve from 0.86792\n",
      "\n",
      "Epoch 00030: ReduceLROnPlateau reducing learning rate to 9.999999092680235e-13.\n"
     ]
    }
   ],
   "source": [
    "#Fine tune- ResNet50\n",
    "tmode = \"finetune\"\n",
    "train_resnet_classification(num_classes, tmode, proc_data_path)\n",
    "# above call creates models in ../models/finetune.h5"
   ]
  },
  {
   "cell_type": "markdown",
   "metadata": {},
   "source": [
    "Finetune produced improved the val accurac to 86%"
   ]
  },
  {
   "cell_type": "code",
   "execution_count": 6,
   "metadata": {},
   "outputs": [
    {
     "name": "stdout",
     "output_type": "stream",
     "text": [
      "Test accuracy = 87.0%\n",
      "[[21  2  0]\n",
      " [ 1 22  0]\n",
      " [ 1  5 17]]\n"
     ]
    },
    {
     "data": {
      "image/png": "[encoded data removed]",
      "text/plain": [
       "<Figure size 432x288 with 2 Axes>"
      ]
     },
     "metadata": {
      "needs_background": "light"
     },
     "output_type": "display_data"
    }
   ],
   "source": [
    "#Run the model on test set and get model accuracy on test set\n",
    "report(proc_data_path)"
   ]
  },
  {
   "cell_type": "markdown",
   "metadata": {},
   "source": [
    "We are able to get test accuracy of 87% which is comparable to val accuracy"
   ]
  },
  {
   "cell_type": "markdown",
   "metadata": {},
   "source": [
    "## 4. Make Predictions"
   ]
  },
  {
   "cell_type": "code",
   "execution_count": 2,
   "metadata": {},
   "outputs": [],
   "source": [
    "from predict import predict"
   ]
  },
  {
   "cell_type": "code",
   "execution_count": 5,
   "metadata": {},
   "outputs": [
    {
     "name": "stdout",
     "output_type": "stream",
     "text": [
      "WARNING:tensorflow:From C:\\Users\\Vaishali\\Anaconda3\\envs\\vinayenv\\lib\\site-packages\\tensorflow\\python\\framework\\op_def_library.py:263: colocate_with (from tensorflow.python.framework.ops) is deprecated and will be removed in a future version.\n",
      "Instructions for updating:\n",
      "Colocations handled automatically by placer.\n"
     ]
    },
    {
     "name": "stderr",
     "output_type": "stream",
     "text": [
      "C:\\Users\\Vaishali\\Anaconda3\\envs\\vinayenv\\lib\\site-packages\\keras_applications\\resnet50.py:265: UserWarning: The output shape of `ResNet50(include_top=False)` has been changed since Keras 2.2.0.\n",
      "  warnings.warn('The output shape of `ResNet50(include_top=False)` '\n"
     ]
    },
    {
     "name": "stdout",
     "output_type": "stream",
     "text": [
      "open-checkbox\n"
     ]
    },
    {
     "data": {
      "text/plain": [
       "'open-checkbox'"
      ]
     },
     "execution_count": 5,
     "metadata": {},
     "output_type": "execute_result"
    }
   ],
   "source": [
    "#Predict on a test image\n",
    "test_image = '../data/test/0_checkbox-06.open.png'\n",
    "predict(test_image, proc_data_path)"
   ]
  },
  {
   "cell_type": "markdown",
   "metadata": {},
   "source": [
    "## 5. Possible next steps"
   ]
  },
  {
   "cell_type": "markdown",
   "metadata": {},
   "source": [
    "- Build end-to-end YOLO which takes entire document as input and localize checkboxes. YOLO can learn non-checkboxes as background without annotation.\n",
    "\n",
    "- Consider Classical Image Processing methods ex- morphological image processing\n",
    "\n",
    "- Get more annotated data from this website-https://www.shutterstock.com/search/handwritten+checkmark\n"
   ]
  },
  {
   "cell_type": "code",
   "execution_count": null,
   "metadata": {},
   "outputs": [],
   "source": []
  }
 ],
 "metadata": {
  "kernelspec": {
   "display_name": "Python 3",
   "language": "python",
   "name": "python3"
  },
  "language_info": {
   "codemirror_mode": {
    "name": "ipython",
    "version": 3
   },
   "file_extension": ".py",
   "mimetype": "text/x-python",
   "name": "python",
   "nbconvert_exporter": "python",
   "pygments_lexer": "ipython3",
   "version": "3.6.10"
  }
 },
 "nbformat": 4,
 "nbformat_minor": 2
}
